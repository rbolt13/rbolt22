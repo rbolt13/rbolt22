{
  "cells": [
    {
      "cell_type": "raw",
      "metadata": {},
      "source": [
        "---\n",
        "title: \"Data Science Tools: Part 2: Python\"\n",
        "author: \"Randi Bolt\"\n",
        "date: \"2023-01-16\"\n",
        "categories: [SQL]\n",
        "toc: true\n",
        "draft: true\n",
        "---"
      ],
      "id": "4a2c5053"
    },
    {
      "cell_type": "markdown",
      "metadata": {},
      "source": [
        "This post covers XX data related questions, and solutions using  Python - R - SQL. \n",
        "\n",
        "![](../../00_img/ds_powerpuff.png)\n",
        "\n",
        "# `0.` Introduction \n",
        "\n",
        "## `0.1` Load Packages\n"
      ],
      "id": "8f39e9a2"
    },
    {
      "cell_type": "code",
      "metadata": {},
      "source": [
        "import numpy as np\n",
        "import pandas as pd\n",
        "\n",
        "from pandas import Series, DataFrame"
      ],
      "id": "5484c840",
      "execution_count": null,
      "outputs": []
    },
    {
      "cell_type": "markdown",
      "metadata": {},
      "source": [
        "# `1.` Create Data\n",
        "\n",
        "## `1.1` Python\n"
      ],
      "id": "6c14d74f"
    },
    {
      "cell_type": "code",
      "metadata": {},
      "source": [
        "py_data = {'Letter': ['A', 'B', 'C'],\n",
        "            'Number': [1,2,3],\n",
        "            'Color': ['Blue','Red','Yellow']}\n",
        "            \n",
        "py_df = pd.DataFrame(py_data)\n",
        "py_df"
      ],
      "id": "f9e48e21",
      "execution_count": null,
      "outputs": []
    },
    {
      "cell_type": "markdown",
      "metadata": {},
      "source": [
        "## `1.2` R\n",
        "\n",
        "\n",
        "\n",
        "# `2.` Load Data\n",
        "\n",
        "## `2.1` Python\n"
      ],
      "id": "a73cdcc8"
    },
    {
      "cell_type": "code",
      "metadata": {},
      "source": [
        "address = '../../00_data/patients.csv'\n",
        "py_patients = pd.read_csv(address)\n",
        "py_patients.head()"
      ],
      "id": "7d8e3182",
      "execution_count": null,
      "outputs": []
    },
    {
      "cell_type": "markdown",
      "metadata": {},
      "source": [
        "## `2.2` R\n",
        "\n",
        "\n",
        "# `3.` Show first name, last name, and gender of patients who's gender is 'M'.\n",
        "\n",
        "\n",
        "\n",
        "`SElECT` \n",
        "  column_1,\n",
        "  column_2,\n",
        "  column_4\n",
        "`FROM` data\n",
        "`WHERE` column_4 = 'value';\n",
        "\n",
        "\n",
        "# `4.` Show first and last name of patients who do not have allergies (null). \n",
        "\n",
        "`SElECT` \n",
        "  column_1,\n",
        "  column_2\n",
        "`FROM` data\n",
        "`WHERE` column_2 `IS` NULL\n",
        "\n",
        "# `5.` Show first name of patients that starts with the letter \"C\". \n",
        "\n",
        "`SElECT` \n",
        "  column_1\n",
        "`FROM` data\n",
        "`WHERE` column_1 `LIKE` 'A%'\n",
        "\n",
        "# `6.` Show first and last name of patients that weight within the range of 100 to 120 (inclusive).\n",
        "\n",
        "`SElECT` \n",
        "  column_1\n",
        "`FROM` data\n",
        "`WHERE` column_3 `BETWEEN` 100 `AND` 120\n",
        "\n",
        "# `7.` Replace NULL value with NKA in allegries column. \n",
        "\n",
        "UPDATE patients\n",
        "\tSET allergies = 'NKA'\n",
        "\tWHERE allergies IS NULL;\n",
        "\t\n",
        "# `8.` Show first and last as concatinated into one full_name column. \n",
        "\n",
        "select \n",
        "\tCONCAT(first_name, ' ', last_name) AS full_name\n",
        "FROM patients\n",
        "\n",
        "# `9.` Show first name, last name, and the full province name of each patient. \n",
        "\n",
        "\n",
        "# `10.` Show how many patients have a birth_date with 1993 as the birth year. \n",
        "\n",
        "\n",
        "# `11.` Show all columns for patients who have one of the following patient_ids: 1, 45, 879, 1000. \n",
        "\n",
        "\n",
        "\n",
        "# `12.` Show unique first names from the patients table which only occurs once in the list. \n",
        "\n",
        "\n",
        "# `13.` Show patient_id, first_name, last_name from patients whos diagnosis is 'Dementia'. \n",
        "\n",
        "\n",
        "# `14.` Show the total amount of male patients and the toatl amount of female patients in the patients table. Display the results in the same row. \n",
        "\n",
        "\n",
        "# `15.` Show all allergies ordered by popularity. Remove 'NKA' or NULL values from query. \n",
        "\n",
        "\n",
        "# `16.` Show all of the days of the month (1-31) and how many admission_dates occurred on that day. Sort by the day with most admissions to least admissions. \n",
        "\n",
        "\n",
        "# `17.` For every admission, display the patient's full name, their admission diagnosis, and their doctor's full name who diagnosed their problem. \n",
        "\n",
        "# `18.` From the patients table, show patient_id, weight, height, and isObese. Display isObese as a boolean 0 or 1. Obese is defined as weight(kg)/height(m)$^2$)>= 30. Weight is in units kg, and height in in units cm. \n",
        "\n",
        "# `19.` For each day display the total amount of admissions on that day. Display the amount changed from the previous date. \n",
        "\n",
        "\n",
        "# `20.` Each admission costs $50 for patients without insurance, and $10 for patients with insurance. All patients with an even patient_id have insurance. Give each patient a 'Yes' if they have insurance, and a 'No' if they don't have insurance. Add up the admission_total cost for each has_insurance group. \n"
      ],
      "id": "7ccf74e6"
    }
  ],
  "metadata": {
    "kernelspec": {
      "name": "python3",
      "language": "python",
      "display_name": "Python 3 (ipykernel)"
    }
  },
  "nbformat": 4,
  "nbformat_minor": 5
}